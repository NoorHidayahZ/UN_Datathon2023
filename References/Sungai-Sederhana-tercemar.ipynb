{
 "cells": [
  {
   "cell_type": "code",
   "execution_count": 1,
   "metadata": {},
   "outputs": [],
   "source": [
    "import pandas as pd\n",
    "import tabula\n",
    "\n",
    "columns = ['state', 'river-basin', 'river', 'no-of-stations', '2016-IKA/WQI', '2016-category', '2016-class', '2017-IKA/WQI', '2017-category', '2017-class']\n",
    "def extract_table(df:pd.DataFrame) -> pd.DataFrame:\n",
    "    # forward fill only first column\n",
    "    df.iloc[:,[0,1]] = df.iloc[:,[0,1]].ffill()\n",
    "    # replace \\r with space\n",
    "    df = df.replace('\\r','', regex=True)\n",
    "    # find the first row of first column with value 'NEGERI/STATE'\n",
    "    row = df[df.iloc[:,0] == 'NEGERI/STATE'].index[0]\n",
    "    # make row 0 as header\n",
    "    df.columns = columns # range(df.shape[1])\n",
    "    # drop row 0 & 1\n",
    "    df = df.drop(df.index[range(row)])\n",
    "    # reset index\n",
    "    df = df.reset_index(drop=True)\n",
    "    return df"
   ]
  },
  {
   "cell_type": "code",
   "execution_count": 2,
   "metadata": {},
   "outputs": [],
   "source": [
    "pages = range(10,16) # jadual 2.2 : sederhana tercemar\n",
    "dfs = []\n",
    "for page in pages:\n",
    "    df = tabula.read_pdf('Kualiti-Air-Sungai.pdf', pages=[page],stream=False,lattice=True)[0]\n",
    "    dfs.append(extract_table(df))\n",
    "df = pd.concat(dfs).reset_index(drop=True)"
   ]
  },
  {
   "cell_type": "code",
   "execution_count": 3,
   "metadata": {},
   "outputs": [],
   "source": [
    "# remove rows with column 1 value equal to 'LEMBANGANSUNGAI/RIVER BASIN' from df\n",
    "df = df[df.iloc[:,1] != 'LEMBANGANSUNGAI/RIVER BASIN'].reset_index(drop=True)\n",
    "# replace with null value column 0 with value 'NEGERI/STATE'\n",
    "df.iloc[:,0] = df.iloc[:,0].replace('NEGERI/STATE', None)\n",
    "# forward fill column 0\n",
    "df.iloc[:,0] = df.iloc[:,0].ffill()\n",
    "# only in case column 9 is null, move values in column 0 to column 8 to column 1 to column 9 but maintain if column 9 is not null\n",
    "mask = df.iloc[:,9].isnull()\n",
    "df[mask] = df[mask].shift(axis=1)\n",
    "mask = df.iloc[:,9].isnull()\n",
    "df[mask] = df[mask].shift(axis=1)\n",
    "df.iloc[:,[0,1]] = df.iloc[:,[0,1]].ffill()"
   ]
  },
  {
   "cell_type": "code",
   "execution_count": 4,
   "metadata": {},
   "outputs": [
    {
     "data": {
      "text/html": [
       "<div>\n",
       "<style scoped>\n",
       "    .dataframe tbody tr th:only-of-type {\n",
       "        vertical-align: middle;\n",
       "    }\n",
       "\n",
       "    .dataframe tbody tr th {\n",
       "        vertical-align: top;\n",
       "    }\n",
       "\n",
       "    .dataframe thead th {\n",
       "        text-align: right;\n",
       "    }\n",
       "</style>\n",
       "<table border=\"1\" class=\"dataframe\">\n",
       "  <thead>\n",
       "    <tr style=\"text-align: right;\">\n",
       "      <th></th>\n",
       "      <th>state</th>\n",
       "      <th>river-basin</th>\n",
       "      <th>river</th>\n",
       "      <th>no-of-stations</th>\n",
       "      <th>2016-IKA/WQI</th>\n",
       "      <th>2016-category</th>\n",
       "      <th>2016-class</th>\n",
       "      <th>2017-IKA/WQI</th>\n",
       "      <th>2017-category</th>\n",
       "      <th>2017-class</th>\n",
       "    </tr>\n",
       "  </thead>\n",
       "  <tbody>\n",
       "    <tr>\n",
       "      <th>count</th>\n",
       "      <td>207</td>\n",
       "      <td>207</td>\n",
       "      <td>207</td>\n",
       "      <td>207</td>\n",
       "      <td>207</td>\n",
       "      <td>207</td>\n",
       "      <td>207</td>\n",
       "      <td>207</td>\n",
       "      <td>207</td>\n",
       "      <td>207</td>\n",
       "    </tr>\n",
       "    <tr>\n",
       "      <th>unique</th>\n",
       "      <td>21</td>\n",
       "      <td>88</td>\n",
       "      <td>204</td>\n",
       "      <td>9</td>\n",
       "      <td>32</td>\n",
       "      <td>3</td>\n",
       "      <td>2</td>\n",
       "      <td>21</td>\n",
       "      <td>1</td>\n",
       "      <td>2</td>\n",
       "    </tr>\n",
       "    <tr>\n",
       "      <th>top</th>\n",
       "      <td>Sarawak</td>\n",
       "      <td>Sg. Klang</td>\n",
       "      <td>Sg. Rasau</td>\n",
       "      <td>1</td>\n",
       "      <td>79</td>\n",
       "      <td>ST/SP</td>\n",
       "      <td>III</td>\n",
       "      <td>79</td>\n",
       "      <td>ST/SP</td>\n",
       "      <td>III</td>\n",
       "    </tr>\n",
       "    <tr>\n",
       "      <th>freq</th>\n",
       "      <td>40</td>\n",
       "      <td>12</td>\n",
       "      <td>2</td>\n",
       "      <td>122</td>\n",
       "      <td>18</td>\n",
       "      <td>176</td>\n",
       "      <td>120</td>\n",
       "      <td>31</td>\n",
       "      <td>207</td>\n",
       "      <td>120</td>\n",
       "    </tr>\n",
       "  </tbody>\n",
       "</table>\n",
       "</div>"
      ],
      "text/plain": [
       "          state river-basin      river no-of-stations 2016-IKA/WQI  \\\n",
       "count       207         207        207            207          207   \n",
       "unique       21          88        204              9           32   \n",
       "top     Sarawak   Sg. Klang  Sg. Rasau              1           79   \n",
       "freq         40          12          2            122           18   \n",
       "\n",
       "       2016-category 2016-class 2017-IKA/WQI 2017-category 2017-class  \n",
       "count            207        207          207           207        207  \n",
       "unique             3          2           21             1          2  \n",
       "top            ST/SP        III           79         ST/SP        III  \n",
       "freq             176        120           31           207        120  "
      ]
     },
     "execution_count": 4,
     "metadata": {},
     "output_type": "execute_result"
    }
   ],
   "source": [
    "df.describe()"
   ]
  },
  {
   "cell_type": "code",
   "execution_count": 5,
   "metadata": {},
   "outputs": [
    {
     "name": "stdout",
     "output_type": "stream",
     "text": [
      "<class 'pandas.core.frame.DataFrame'>\n",
      "RangeIndex: 207 entries, 0 to 206\n",
      "Data columns (total 10 columns):\n",
      " #   Column          Non-Null Count  Dtype \n",
      "---  ------          --------------  ----- \n",
      " 0   state           207 non-null    object\n",
      " 1   river-basin     207 non-null    object\n",
      " 2   river           207 non-null    object\n",
      " 3   no-of-stations  207 non-null    object\n",
      " 4   2016-IKA/WQI    207 non-null    object\n",
      " 5   2016-category   207 non-null    object\n",
      " 6   2016-class      207 non-null    object\n",
      " 7   2017-IKA/WQI    207 non-null    object\n",
      " 8   2017-category   207 non-null    object\n",
      " 9   2017-class      207 non-null    object\n",
      "dtypes: object(10)\n",
      "memory usage: 16.3+ KB\n"
     ]
    }
   ],
   "source": [
    "df.info()"
   ]
  },
  {
   "cell_type": "code",
   "execution_count": 6,
   "metadata": {},
   "outputs": [],
   "source": [
    "df.to_excel('Jadual-2-2-sungai-sederhana-tercemar-2017.xlsx', index=False)"
   ]
  },
  {
   "cell_type": "code",
   "execution_count": null,
   "metadata": {},
   "outputs": [],
   "source": []
  }
 ],
 "metadata": {
  "kernelspec": {
   "display_name": "base",
   "language": "python",
   "name": "python3"
  },
  "language_info": {
   "codemirror_mode": {
    "name": "ipython",
    "version": 3
   },
   "file_extension": ".py",
   "mimetype": "text/x-python",
   "name": "python",
   "nbconvert_exporter": "python",
   "pygments_lexer": "ipython3",
   "version": "3.11.5"
  }
 },
 "nbformat": 4,
 "nbformat_minor": 2
}
