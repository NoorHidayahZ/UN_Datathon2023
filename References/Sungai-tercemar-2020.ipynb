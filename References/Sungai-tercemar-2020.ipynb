{
 "cells": [
  {
   "cell_type": "code",
   "execution_count": 1,
   "metadata": {},
   "outputs": [],
   "source": [
    "import pandas as pd\n",
    "import tabula\n",
    "columns = ['state', 'river-basin', 'river', 'no-of-stations', '2019-IKA/WQI', '2019-category', '2019-class', '2020-IKA/WQI', '2020-category', '2020-class']\n",
    "def extract_table(df:pd.DataFrame) -> pd.DataFrame:\n",
    "    # forward fill only first column\n",
    "    df.iloc[:,[0,1]] = df.iloc[:,[0,1]].ffill()\n",
    "    # replace \\r with space\n",
    "    df = df.replace('\\r','', regex=True)\n",
    "    # find the first row of first column with value 'NEGERI/STATE'\n",
    "    # row = df[df.iloc[:,0] == 'NEGERI /STATE'].index[0]\n",
    "    # make row 0 as header\n",
    "    df.columns = columns\n",
    "    # drop row 0 & 1\n",
    "    # df = df.drop(df.index[range(row)])\n",
    "    # reset index\n",
    "    df = df.reset_index(drop=True)\n",
    "    return df"
   ]
  },
  {
   "cell_type": "code",
   "execution_count": 2,
   "metadata": {},
   "outputs": [],
   "source": [
    "pages = [59] # jadual 2.3 Tercemar\n",
    "dfs = []\n",
    "for page in pages:\n",
    "    df = tabula.read_pdf('EQR-2020-1.pdf', pages=[page], lattice=True,stream=True, pandas_options={'header': None})[0]\n",
    "    dfs.append(extract_table(df))\n",
    "df = pd.concat(dfs).reset_index(drop=True)"
   ]
  },
  {
   "cell_type": "code",
   "execution_count": 3,
   "metadata": {},
   "outputs": [],
   "source": [
    "# drop row 0,1, 35,36\n",
    "df = df.drop(df.index[[0,1]]).reset_index(drop=True)\n",
    "# # remove rows with column 1 value equal to 'LEMBANGANSUNGAVjI/RIVER BASIN' from df\n",
    "# df = df[df.iloc[:,1] != 'LEMBANGANSUNGAI/RIVER BASIN'].reset_index(drop=True)\n",
    "# replace with null value column 0 with value 'NEGERI/STATE'\n",
    "df.iloc[:,0] = df.iloc[:,0].replace('NEGERI/STATE', None)\n",
    "# forward fill column 0\n",
    "df.iloc[:,0] = df.iloc[:,0].ffill()\n",
    "# only in case column 9 is null, move values in column 0 to column 8 to column 1 to column 9 but maintain if column 9 is not null\n",
    "mask = df.iloc[:,9].isnull()\n",
    "df[mask] = df[mask].shift(axis=1)\n",
    "mask = df.iloc[:,9].isnull()\n",
    "df[mask] = df[mask].shift(axis=1)\n",
    "df.iloc[:,[0,1]] = df.iloc[:,[0,1]].ffill()"
   ]
  },
  {
   "cell_type": "code",
   "execution_count": 4,
   "metadata": {},
   "outputs": [
    {
     "data": {
      "text/html": [
       "<div>\n",
       "<style scoped>\n",
       "    .dataframe tbody tr th:only-of-type {\n",
       "        vertical-align: middle;\n",
       "    }\n",
       "\n",
       "    .dataframe tbody tr th {\n",
       "        vertical-align: top;\n",
       "    }\n",
       "\n",
       "    .dataframe thead th {\n",
       "        text-align: right;\n",
       "    }\n",
       "</style>\n",
       "<table border=\"1\" class=\"dataframe\">\n",
       "  <thead>\n",
       "    <tr style=\"text-align: right;\">\n",
       "      <th></th>\n",
       "      <th>state</th>\n",
       "      <th>river-basin</th>\n",
       "      <th>river</th>\n",
       "      <th>no-of-stations</th>\n",
       "      <th>2019-IKA/WQI</th>\n",
       "      <th>2019-category</th>\n",
       "      <th>2019-class</th>\n",
       "      <th>2020-IKA/WQI</th>\n",
       "      <th>2020-category</th>\n",
       "      <th>2020-class</th>\n",
       "    </tr>\n",
       "  </thead>\n",
       "  <tbody>\n",
       "    <tr>\n",
       "      <th>count</th>\n",
       "      <td>34</td>\n",
       "      <td>34</td>\n",
       "      <td>34</td>\n",
       "      <td>34</td>\n",
       "      <td>34</td>\n",
       "      <td>34</td>\n",
       "      <td>34</td>\n",
       "      <td>34</td>\n",
       "      <td>34</td>\n",
       "      <td>34</td>\n",
       "    </tr>\n",
       "    <tr>\n",
       "      <th>unique</th>\n",
       "      <td>9</td>\n",
       "      <td>18</td>\n",
       "      <td>32</td>\n",
       "      <td>5</td>\n",
       "      <td>24</td>\n",
       "      <td>2</td>\n",
       "      <td>3</td>\n",
       "      <td>16</td>\n",
       "      <td>1</td>\n",
       "      <td>3</td>\n",
       "    </tr>\n",
       "    <tr>\n",
       "      <th>top</th>\n",
       "      <td>Johor</td>\n",
       "      <td>Sg. Tebrau</td>\n",
       "      <td>Sg. Rambai</td>\n",
       "      <td>1</td>\n",
       "      <td>54</td>\n",
       "      <td>T/P</td>\n",
       "      <td>III</td>\n",
       "      <td>59</td>\n",
       "      <td>T/P</td>\n",
       "      <td>III</td>\n",
       "    </tr>\n",
       "    <tr>\n",
       "      <th>freq</th>\n",
       "      <td>18</td>\n",
       "      <td>7</td>\n",
       "      <td>2</td>\n",
       "      <td>23</td>\n",
       "      <td>3</td>\n",
       "      <td>30</td>\n",
       "      <td>17</td>\n",
       "      <td>5</td>\n",
       "      <td>34</td>\n",
       "      <td>24</td>\n",
       "    </tr>\n",
       "  </tbody>\n",
       "</table>\n",
       "</div>"
      ],
      "text/plain": [
       "        state river-basin       river no-of-stations 2019-IKA/WQI  \\\n",
       "count      34          34          34             34           34   \n",
       "unique      9          18          32              5           24   \n",
       "top     Johor  Sg. Tebrau  Sg. Rambai              1           54   \n",
       "freq       18           7           2             23            3   \n",
       "\n",
       "       2019-category 2019-class 2020-IKA/WQI 2020-category 2020-class  \n",
       "count             34         34           34            34         34  \n",
       "unique             2          3           16             1          3  \n",
       "top              T/P        III           59           T/P        III  \n",
       "freq              30         17            5            34         24  "
      ]
     },
     "execution_count": 4,
     "metadata": {},
     "output_type": "execute_result"
    }
   ],
   "source": [
    "df.describe()"
   ]
  },
  {
   "cell_type": "code",
   "execution_count": 5,
   "metadata": {},
   "outputs": [
    {
     "name": "stdout",
     "output_type": "stream",
     "text": [
      "<class 'pandas.core.frame.DataFrame'>\n",
      "RangeIndex: 34 entries, 0 to 33\n",
      "Data columns (total 10 columns):\n",
      " #   Column          Non-Null Count  Dtype \n",
      "---  ------          --------------  ----- \n",
      " 0   state           34 non-null     object\n",
      " 1   river-basin     34 non-null     object\n",
      " 2   river           34 non-null     object\n",
      " 3   no-of-stations  34 non-null     object\n",
      " 4   2019-IKA/WQI    34 non-null     object\n",
      " 5   2019-category   34 non-null     object\n",
      " 6   2019-class      34 non-null     object\n",
      " 7   2020-IKA/WQI    34 non-null     object\n",
      " 8   2020-category   34 non-null     object\n",
      " 9   2020-class      34 non-null     object\n",
      "dtypes: object(10)\n",
      "memory usage: 2.8+ KB\n"
     ]
    }
   ],
   "source": [
    "df.info()"
   ]
  },
  {
   "cell_type": "code",
   "execution_count": 6,
   "metadata": {},
   "outputs": [],
   "source": [
    "df.to_excel('Jadual-2-3-sungai-tercemar-2020.xlsx', index=False)"
   ]
  },
  {
   "cell_type": "code",
   "execution_count": null,
   "metadata": {},
   "outputs": [],
   "source": []
  }
 ],
 "metadata": {
  "kernelspec": {
   "display_name": "base",
   "language": "python",
   "name": "python3"
  },
  "language_info": {
   "codemirror_mode": {
    "name": "ipython",
    "version": 3
   },
   "file_extension": ".py",
   "mimetype": "text/x-python",
   "name": "python",
   "nbconvert_exporter": "python",
   "pygments_lexer": "ipython3",
   "version": "3.11.5"
  }
 },
 "nbformat": 4,
 "nbformat_minor": 2
}
