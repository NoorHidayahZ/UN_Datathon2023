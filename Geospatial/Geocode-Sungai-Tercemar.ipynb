{
 "cells": [
  {
   "cell_type": "code",
   "execution_count": 1,
   "metadata": {},
   "outputs": [],
   "source": [
    "import pandas as pd\n",
    "import folium\n",
    "from geopy.geocoders import Nominatim"
   ]
  },
  {
   "cell_type": "code",
   "execution_count": 2,
   "metadata": {},
   "outputs": [
    {
     "data": {
      "text/html": [
       "<div>\n",
       "<style scoped>\n",
       "    .dataframe tbody tr th:only-of-type {\n",
       "        vertical-align: middle;\n",
       "    }\n",
       "\n",
       "    .dataframe tbody tr th {\n",
       "        vertical-align: top;\n",
       "    }\n",
       "\n",
       "    .dataframe thead th {\n",
       "        text-align: right;\n",
       "    }\n",
       "</style>\n",
       "<table border=\"1\" class=\"dataframe\">\n",
       "  <thead>\n",
       "    <tr style=\"text-align: right;\">\n",
       "      <th></th>\n",
       "      <th>state</th>\n",
       "      <th>river-basin</th>\n",
       "      <th>river</th>\n",
       "      <th>no-of-stations</th>\n",
       "      <th>2016-IKA/WQI</th>\n",
       "      <th>2016-category</th>\n",
       "      <th>2016-class</th>\n",
       "      <th>2017-IKA/WQI</th>\n",
       "      <th>2017-category</th>\n",
       "      <th>2017-class</th>\n",
       "    </tr>\n",
       "  </thead>\n",
       "  <tbody>\n",
       "    <tr>\n",
       "      <th>0</th>\n",
       "      <td>P.Pinang</td>\n",
       "      <td>Sg. Jawi</td>\n",
       "      <td>Sg. Jawi</td>\n",
       "      <td>1</td>\n",
       "      <td>47</td>\n",
       "      <td>T/P</td>\n",
       "      <td>IV</td>\n",
       "      <td>44</td>\n",
       "      <td>T/P</td>\n",
       "      <td>IV</td>\n",
       "    </tr>\n",
       "    <tr>\n",
       "      <th>1</th>\n",
       "      <td>P.Pinang</td>\n",
       "      <td>Sg. Juru</td>\n",
       "      <td>Sg. Juru</td>\n",
       "      <td>2</td>\n",
       "      <td>58</td>\n",
       "      <td>T/P</td>\n",
       "      <td>III</td>\n",
       "      <td>53</td>\n",
       "      <td>T/P</td>\n",
       "      <td>III</td>\n",
       "    </tr>\n",
       "    <tr>\n",
       "      <th>2</th>\n",
       "      <td>P.Pinang</td>\n",
       "      <td>Sg. Juru</td>\n",
       "      <td>Sg. Rambai</td>\n",
       "      <td>1</td>\n",
       "      <td>55</td>\n",
       "      <td>T/P</td>\n",
       "      <td>III</td>\n",
       "      <td>49</td>\n",
       "      <td>T/P</td>\n",
       "      <td>IV</td>\n",
       "    </tr>\n",
       "    <tr>\n",
       "      <th>3</th>\n",
       "      <td>P.Pinang/Kedah</td>\n",
       "      <td>Sg. Pinang</td>\n",
       "      <td>Sg. Jelutong</td>\n",
       "      <td>1</td>\n",
       "      <td>44</td>\n",
       "      <td>T/P</td>\n",
       "      <td>IV</td>\n",
       "      <td>49</td>\n",
       "      <td>T/P</td>\n",
       "      <td>IV</td>\n",
       "    </tr>\n",
       "    <tr>\n",
       "      <th>4</th>\n",
       "      <td>P.Pinang/Kedah</td>\n",
       "      <td>Sg. Pinang</td>\n",
       "      <td>Sg. Pinang</td>\n",
       "      <td>1</td>\n",
       "      <td>56</td>\n",
       "      <td>T/P</td>\n",
       "      <td>III</td>\n",
       "      <td>57</td>\n",
       "      <td>T/P</td>\n",
       "      <td>III</td>\n",
       "    </tr>\n",
       "  </tbody>\n",
       "</table>\n",
       "</div>"
      ],
      "text/plain": [
       "            state river-basin         river  no-of-stations  2016-IKA/WQI  \\\n",
       "0        P.Pinang    Sg. Jawi      Sg. Jawi               1            47   \n",
       "1        P.Pinang    Sg. Juru      Sg. Juru               2            58   \n",
       "2        P.Pinang    Sg. Juru    Sg. Rambai               1            55   \n",
       "3  P.Pinang/Kedah  Sg. Pinang  Sg. Jelutong               1            44   \n",
       "4  P.Pinang/Kedah  Sg. Pinang    Sg. Pinang               1            56   \n",
       "\n",
       "  2016-category 2016-class  2017-IKA/WQI 2017-category 2017-class  \n",
       "0           T/P         IV            44           T/P         IV  \n",
       "1           T/P        III            53           T/P        III  \n",
       "2           T/P        III            49           T/P         IV  \n",
       "3           T/P         IV            49           T/P         IV  \n",
       "4           T/P        III            57           T/P        III  "
      ]
     },
     "execution_count": 2,
     "metadata": {},
     "output_type": "execute_result"
    }
   ],
   "source": [
    "df = pd.read_excel('../References/Jadual-2-3-sungai-tercemar-2017.xlsx')\n",
    "df.head()"
   ]
  },
  {
   "cell_type": "code",
   "execution_count": 3,
   "metadata": {},
   "outputs": [],
   "source": [
    "geolocator = Nominatim(user_agent=\"river_geocoder\")"
   ]
  },
  {
   "cell_type": "code",
   "execution_count": 4,
   "metadata": {},
   "outputs": [],
   "source": [
    "# insert space in camel case\n",
    "def insert_spaces_in_camel_case(input_string):\n",
    "    output_string = input_string[0]  # Initialize the output string with the first character\n",
    "\n",
    "    for i in range(1, len(input_string)):\n",
    "        if input_string[i].isupper() and not input_string[i - 1].isspace():\n",
    "            output_string += ' '  # Add a space before the uppercase letter\n",
    "        output_string += input_string[i]\n",
    "\n",
    "    return output_string\n",
    "\n",
    "df['river_name'] = df['river'].apply(insert_spaces_in_camel_case)"
   ]
  },
  {
   "cell_type": "code",
   "execution_count": 5,
   "metadata": {},
   "outputs": [
    {
     "name": "stderr",
     "output_type": "stream",
     "text": [
      "C:\\Users\\elvin\\AppData\\Local\\Temp\\ipykernel_26304\\1850350193.py:3: SettingWithCopyWarning: \n",
      "A value is trying to be set on a copy of a slice from a DataFrame\n",
      "\n",
      "See the caveats in the documentation: https://pandas.pydata.org/pandas-docs/stable/user_guide/indexing.html#returning-a-view-versus-a-copy\n",
      "  df['Coordinates'][mask] = df['river-basin'][mask].apply(lambda x: geolocator.geocode(x) if x is not None else None)\n"
     ]
    }
   ],
   "source": [
    "df['Coordinates'] = df['river_name'].apply(lambda x: geolocator.geocode(x) if x is not None else None)\n",
    "mask = df['Coordinates'].isnull()\n",
    "df['Coordinates'][mask] = df['river-basin'][mask].apply(lambda x: geolocator.geocode(x) if x is not None else None)\n"
   ]
  },
  {
   "cell_type": "code",
   "execution_count": 7,
   "metadata": {},
   "outputs": [],
   "source": [
    "# Extract latitude and longitude from the geocoded results\n",
    "df['Latitude'] = df['Coordinates'].apply(lambda x: x.latitude if x is not None else None)\n",
    "df['Longitude'] = df['Coordinates'].apply(lambda x: x.longitude if x is not None else None)\n",
    "\n",
    "a = geolocator.geocode('Pasir Gudang')\n",
    "df.loc[32,'Latitude'] = a.latitude\n",
    "df.loc[32,'Longitude'] = a.longitude\n",
    "# Drop rows with missing coordinates\n",
    "# data = data.dropna(subset=['Latitude', 'Longitude'])\n",
    "df.to_excel('../References/Jadual-2-3-sungai-tercemar-2017-geocoded.xlsx')\n"
   ]
  }
 ],
 "metadata": {
  "kernelspec": {
   "display_name": "base",
   "language": "python",
   "name": "python3"
  },
  "language_info": {
   "codemirror_mode": {
    "name": "ipython",
    "version": 3
   },
   "file_extension": ".py",
   "mimetype": "text/x-python",
   "name": "python",
   "nbconvert_exporter": "python",
   "pygments_lexer": "ipython3",
   "version": "3.11.5"
  }
 },
 "nbformat": 4,
 "nbformat_minor": 2
}
